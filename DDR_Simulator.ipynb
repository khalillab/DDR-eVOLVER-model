{
 "cells": [
  {
   "cell_type": "code",
   "execution_count": 1,
   "metadata": {},
   "outputs": [],
   "source": [
    "import numpy as np\n",
    "from scipy.integrate import solve_ivp\n",
    "import matplotlib.pyplot as plt\n",
    "import seaborn as sns\n",
    "from tqdm import tqdm\n",
    "import pandas as pd\n",
    "import random\n",
    "from scipy.optimize import curve_fit"
   ]
  },
  {
   "cell_type": "code",
   "execution_count": 2,
   "metadata": {},
   "outputs": [],
   "source": [
    "Ds=np.arange(12)*0.1;\n",
    "Fs=np.array([1,2,4,8,16,32,64]);"
   ]
  },
  {
   "cell_type": "code",
   "execution_count": 1,
   "metadata": {},
   "outputs": [],
   "source": [
    "## LOTKA VOLTERRA SIMULATIONS\n",
    "\n",
    "def LV( t, n, rij, aij, d, thres=0):\n",
    "    n = n*(n>thres);\n",
    "    dn = n*rij*( 1 - np.sum( aij *n, axis=1 ) )-d * n;\n",
    "    return dn\n",
    "def LVrun(Rscale, Ascale, lowhigh, Sg=10, Ss=80, D=0.95, nsim=50, th=0, short=True, debug=False):\n",
    "    # Rscale: mean growth rates of gens and sps \n",
    "    # Ascale: min gen aij, min sp aij, min gen-sp aij, max gen-sp aij\n",
    "    G = Sg; S= Sg+Ss;\n",
    "    if(debug):\n",
    "        nsim=1;\n",
    "    nss = np.zeros((6,nsim,S));\n",
    "    for k in tqdm(np.arange(nsim) ):\n",
    "        Ri = np.ones(S)*Rscale[0];#*np.random.uniform( lowhigh[0], lowhigh[1], size=S );\n",
    "        Aij = np.random.uniform( Ascale[2], Ascale[3], size=(S,S) );\n",
    "        Aij[:G, :G] =np.random.uniform( Ascale[0], Ascale[1], size=(G,G) );\n",
    "        Aij[:G, G:] =np.random.uniform( Ascale[4], Ascale[5], size=(G,S-G) );\n",
    "        Aij[G:, :G] =np.random.uniform( Ascale[6], Ascale[7], size=(S-G,G) );\n",
    "        for i in np.arange(S):\n",
    "            Aij[i,i]=1;\n",
    "        Ri[G:] = 0;\n",
    "        for i in np.arange(6) :\n",
    "            nr = [1,2,4,8,15,16][i];\n",
    "            Ri[:Sg + int((Ss)/16)*nr] = Rscale[1];#*np.random.uniform( lowhigh[0], lowhigh[1], size=int((S-G)/NC) );\n",
    "            def LV_wrap(t,n):\n",
    "                return LV(t, n, rij=Ri, aij=Aij, d=D, thres=th)\n",
    "            sol = solve_ivp( LV_wrap, ( 0, 2e4 ), y0=np.random.uniform(1e-7, 1e-6, size=S), method='Radau' );\n",
    "            nss[i,k,:] = sol.y[:,-1];\n",
    "            #nss[i,k,:] = nss[i,k,:]/np.sum(nss[i,k,:]);\n",
    "    return nss, sol"
   ]
  },
  {
   "cell_type": "code",
   "execution_count": 4,
   "metadata": {},
   "outputs": [],
   "source": [
    "## LINEAR CONSUMER RESOURCE SIMULATIONS\n",
    "\n",
    "def LRC( t, nc, rij, aij, c0, d, thres=0):\n",
    "    nc = nc*(nc>thres);\n",
    "    n = nc[:rij.shape[0]]; c=nc[rij.shape[0]:];\n",
    "    dn = n*np.matmul( rij, c )-d * n;\n",
    "    dc = -c*np.matmul( n, aij*rij)+d*(c0-c);\n",
    "    return np.concatenate([dn,dc])\n",
    "\n",
    "def LRCrun(Rscale=np.array([1,0.1]), Ascale=np.array([1,1]), Ns=10, Nr=7, nsim=100, ds=Ds, fs=Fs, th=0):\n",
    "    # Rscale: mean growth rates of gens and sps \n",
    "    # Ascale: min gen aij, min sp aij, min gen-sp aij, max gen-sp aij\n",
    "    \n",
    "    Kij = np.zeros((Ns,Nr));\n",
    "    Aij = np.ones((Ns,Nr));\n",
    "    ncss = np.zeros((8,5,nsim,Ns+Nr));\n",
    "    for k in tqdm(np.arange(nsim) ):\n",
    "        Rij = np.random.normal( Rscale[0], Rscale[1], (Ns, Nr) ); \n",
    "        for i in np.arange(Ns):\n",
    "            Rij[i] = Rij[i]/np.sum(Rij[i]);\n",
    "        for i in np.arange(8):\n",
    "            for j in np.arange(5):\n",
    "                T = 24/fs[j];\n",
    "                d = ds[i]*T/0.25;\n",
    "                def LRC_wrap(t, nc):\n",
    "                    return LRC(t, nc, rij=Rij, aij=Aij, c0= np.ones(Nr), d=0, thres=th)\n",
    "                def LRC_flush(t,nc):\n",
    "                    return LRC(t, nc, rij=Rij, aij=Aij, c0= np.ones(Nr), d=d, thres=th)\n",
    "                n0 = np.random.uniform(1e-7, 1e-6, size=Ns); nc0=np.concatenate([n0, np.ones(Nr)]);\n",
    "                for dilutions in np.arange(6*fs[j]):\n",
    "                    nc0 = solve_ivp( LRC_wrap, ( 0, T-0.25 ), y0=nc0, method='Radau' ).y[:,-1];\n",
    "                    nc0 = solve_ivp( LRC_flush, ( 0, 0.25 ), y0=nc0, method='Radau' ).y[:,-1];\n",
    "                ncss[i,j,k,:] = nc0;\n",
    "    return ncss"
   ]
  },
  {
   "cell_type": "code",
   "execution_count": 4,
   "metadata": {},
   "outputs": [],
   "source": [
    "## MONOD CONSUMER RESOURCE SIMULATIONS\n",
    "\n",
    "def Monod( t, nc, rij, kij, c0, d, m, vd, thres=0):\n",
    "    nc = nc*(nc>thres);\n",
    "    n = nc[:rij.shape[0]]; c=nc[rij.shape[0]:];\n",
    "    ns = np.repeat( n[:,np.newaxis],len(c), axis=1 ); cs=np.repeat( c[:,np.newaxis], len(n), axis=1 ).T;\n",
    "    dconsume = ns*rij*cs/(kij+cs);\n",
    "    dn = np.sum( dconsume, axis=1 ) - (d+vd)*n + m;\n",
    "    dc = -np.sum( dconsume , axis=0 ) + d*(c0-c);\n",
    "    return np.concatenate([dn,dc])\n",
    "\n",
    "def Monodrun(Rscale=np.array([1,0.1]), Kscale=np.array([0.001,0.01]), M=0*np.ones(10), Ascale=np.array([1,1]), Ns=10, Nr=7, nsim=100, ds=Ds, fs=Fs, vd=0*np.ones(10), th=0):\n",
    "    # Rscale: mean growth rates of gens and sps \n",
    "    # Ascale: min gen aij, min sp aij, min gen-sp aij, max gen-sp aij\n",
    "        \n",
    "    #Aij = np.ones((Ns,Nr));\n",
    "    ncss = np.zeros((len(ds),len(fs),nsim,Ns+Nr));\n",
    "    C0 = np.ones(Nr); C0[0]+=0.2;\n",
    "    for k in tqdm(np.arange(nsim) ):\n",
    "        Rij = np.random.normal( Rscale[0], Rscale[1], (Ns, Nr) ); \n",
    "        for i in np.arange(Ns):\n",
    "            Rij[i] = Rij[i]/np.sum(Rij[i]);\n",
    "        Kij = np.random.uniform(Kscale[0], Kscale[1], (Ns, Nr));\n",
    "        for i in np.arange(len(ds)):\n",
    "            for j in np.arange(len(fs)):\n",
    "                T = 24/fs[j];\n",
    "                d = ds[i]*T/0.25;\n",
    "                def Monod_wrap(t, nc):\n",
    "                    return Monod(t, nc, rij=Rij, kij=Kij, c0= C0, d=0, vd=vd, m=M, thres=th)\n",
    "                def Monod_flush(t,nc):\n",
    "                    return Monod(t, nc, rij=Rij, kij=Kij, c0= C0, d=d, vd=vd, m=M, thres=th)\n",
    "                n0 = np.ones(Ns); nc0=np.concatenate([n0, np.ones(Nr)]);\n",
    "                for dilutions in np.arange(6*fs[j]):\n",
    "                    nc0 = solve_ivp( Monod_flush, ( 0, 0.25 ), method='RK45',y0=nc0 ).y[:,-1];\n",
    "                    nc0 = solve_ivp( Monod_wrap, ( 0, T-0.25 ), method='RK45', y0=nc0 ).y[:,-1];\n",
    "                ncss[i,j,k,:] = nc0;\n",
    "    return ncss"
   ]
  },
  {
   "cell_type": "code",
   "execution_count": 5,
   "metadata": {},
   "outputs": [],
   "source": [
    "def shannon(ns, thres=0.0001):\n",
    "    div = 0;\n",
    "    #need clipping\n",
    "    rho = ns[ns > thres]; rho = rho/np.sum(rho);\n",
    "    for i in np.arange(np.shape(rho)[0]):\n",
    "        a = rho[i]*np.log(rho[i]);\n",
    "        if np.isnan(a): a=0;\n",
    "        elif a>0: a=0;\n",
    "        div = div-a;\n",
    "    return div;\n",
    "\n",
    "def otu(ns, thres=0.0000):\n",
    "    rho = ns[ns > 0.00]; #rho = rho/np.sum(rho);\n",
    "    return np.sum( rho > thres );"
   ]
  },
  {
   "cell_type": "code",
   "execution_count": 7,
   "metadata": {},
   "outputs": [
    {
     "name": "stderr",
     "output_type": "stream",
     "text": [
      "100%|██████████| 100/100 [2:35:45<00:00, 96.03s/it] \n"
     ]
    }
   ],
   "source": [
    "#ncss_Monod = Monodrun(nsim=100)\n",
    "ncss_Monod_variabled = Monodrun(vd = np.random.uniform(-0.1, 0.1, size=10), nsim=100)"
   ]
  },
  {
   "cell_type": "code",
   "execution_count": 8,
   "metadata": {},
   "outputs": [
    {
     "name": "stderr",
     "output_type": "stream",
     "text": [
      "100%|██████████| 100/100 [1:46:19<00:00, 63.91s/it]\n"
     ]
    }
   ],
   "source": [
    "nss_Monod_migration = Monodrun(M = 0.001*np.ones(10), nsim=100)"
   ]
  },
  {
   "cell_type": "code",
   "execution_count": 12,
   "metadata": {},
   "outputs": [],
   "source": [
    "#np.savez('0915_sim.npz',ncss_Monod = ncss_Monod, ncss_Monod_01 = ncss_Monod_0001, ncss_Monod_01 = ncss_Monod_01)\n",
    "#np.savez('1006_sim.npz',ncss_Monod = ncss_Monod, ncss_Monod_highinit=ncss_Monod_highinit)\n",
    "#np.savez('1016_sim.npz', ncss_Monod = ncss_Monod, ncss_Monod_highinit=ncss_Monod_highinit, ncss_Monod_variabled= ncss_Monod_variabled, ncss_Monod_migration = nss_Monod_migration)"
   ]
  },
  {
   "cell_type": "code",
   "execution_count": 6,
   "metadata": {},
   "outputs": [],
   "source": [
    "loaded=np.load('1016_sim.npz')\n",
    "ncss_Monod=loaded['ncss_Monod']\n",
    "ncss_Monod_highinit=loaded['ncss_Monod_highinit']\n",
    "ncss_Monod_variabled=loaded['ncss_Monod_variabled']\n",
    "ncss_Monod_migration=loaded['ncss_Monod_migration']"
   ]
  },
  {
   "cell_type": "code",
   "execution_count": 17,
   "metadata": {},
   "outputs": [
    {
     "data": {
      "image/png": "[encoded data removed]",
      "text/plain": [
       "<Figure size 432x288 with 2 Axes>"
      ]
     },
     "metadata": {
      "needs_background": "light"
     },
     "output_type": "display_data"
    }
   ],
   "source": [
    "##load saved data\n",
    "#loaded=np.load('1006_sim.npz')\n",
    "#ncss_Monod=loaded['ncss_Monod']\n",
    "#ncss_Monod_highinit=loaded['ncss_Monod_highinit']\n",
    "##define shannon diversity conversion\n",
    "def shannon(ns, thres=0.0001):\n",
    "    div = 0;\n",
    "    #need clipping\n",
    "    rho = ns[ns > thres]; rho = rho/np.sum(rho);\n",
    "    for i in np.arange(np.shape(rho)[0]):\n",
    "        a = rho[i]*np.log(rho[i]);\n",
    "        if np.isnan(a): a=0;\n",
    "        elif a>0: a=0;\n",
    "        div = div-a;\n",
    "    return div;\n",
    "##calculate shannon diversity for a given dataset\n",
    "sha = np.zeros((12,7));\n",
    "shs = np.zeros((12,7));\n",
    "for i in np.arange(12):\n",
    "    for j in np.arange(7):\n",
    "        dumi = [];\n",
    "        for k in np.arange(100):\n",
    "            dumi = dumi+ [shannon(ncss_Monod_migration[i,j,k,:10], thres=0)]; # can choose data here\n",
    "        sha[i,j] = np.average(dumi);\n",
    "        shs[i,j] = np.std(dumi);\n",
    "## Plot the data via heatmap\n",
    "fig, ax = plt.subplots()\n",
    "im = ax.imshow(sha.T, cmap='Spectral')\n",
    "ax.set_xticks(np.arange(12));\n",
    "ax.set_xticklabels(np.arange(12)/10);\n",
    "ax.set_yticks(np.arange(7));\n",
    "ax.set_yticklabels(2**np.arange(7));\n",
    "ax.set_ylim(-0.5,6.5)\n",
    "ax.set_xlabel('Dilution intensity (/hr)');\n",
    "ax.set_ylabel('Dilution frequency (/day)');\n",
    "cbar = ax.figure.colorbar(im, ax=ax )\n",
    "cbar.ax.set_ylabel('Shannon diversity', rotation=-90, va=\"bottom\");\n",
    "fig.savefig('1016_migration.png',bbox_inches='tight')"
   ]
  },
  {
   "cell_type": "code",
   "execution_count": 16,
   "metadata": {
    "scrolled": true
   },
   "outputs": [
    {
     "data": {
      "text/plain": [
       "[<matplotlib.lines.Line2D at 0x7fe8dec44908>]"
      ]
     },
     "execution_count": 16,
     "metadata": {},
     "output_type": "execute_result"
    },
    {
     "data": {
      "image/png": "[encoded data removed]",
      "text/plain": [
       "<Figure size 432x288 with 1 Axes>"
      ]
     },
     "metadata": {
      "needs_background": "light"
     },
     "output_type": "display_data"
    }
   ],
   "source": [
    "plt.plot(Ds, sha)\n",
    "plt.legend(Fs)\n",
    "plt.plot( Ds, sha[:,0]*0+np.log(10), 'k--' )\n",
    "#plt.savefig('1005_fig1_th0.png',bbox_inches='tight')"
   ]
  },
  {
   "cell_type": "code",
   "execution_count": 2,
   "metadata": {},
   "outputs": [],
   "source": [
    "class Community:\n",
    "    '''  Community Generation / Model definition '''\n",
    "    def __init__(self, Ns = 10, Nr = 7, model=0, dist = np.random.uniform, \n",
    "                 dist_param1 = np.array([0.9, 1.1]), dist_param2 = np.array([0.001, 0.01]), norm=False ):\n",
    "        self.Ns = Ns # number of species\n",
    "        self.Nr = Nr # number of resource\n",
    "        self.Model = model # growth model (Monod, Linear, ...)\n",
    "        self.dist = dist # distribution for species generation\n",
    "        #self.dist_param = dist_param # parameters for species generation\n",
    "        self.norm = norm # normalization for summed growth rate over all resources for each species\n",
    "        self.c0 = np.ones(Nr); self.c0[0]+=0.2 # supplied resource concetrations\n",
    "        ## There is a caveat on determining c0: if everything is exactly symmetric, then niche flip will turn one coexisting community into\n",
    "        ## another coexistning community without going through no-coexistence region. Thus I initially made c0[0]=1.2 instead of 1 in order\n",
    "        ## to introduce asymmetry. This is an arbitrary choice, but I think it might strengthen U-shape.\n",
    "        ## Also, the scale is set such that maximum growth rate( sum_i Rij*c0j) ~ 1. \n",
    "        self.d=0; # dilution rate\n",
    "        \n",
    "        if(model == 0): # Monod model\n",
    "            self.Rij = dist( dist_param1[0]/Nr, dist_param1[1]/Nr, (Ns, Nr) ); # generation of Growth rates, R of i-th species on j-th resource\n",
    "            self.Kij = dist( dist_param2[0], dist_param2[1], (Ns, Nr) ); # generation of Monod constants, K of i-th species on j-th resource\n",
    "        elif(model == 1): # LRC model, without cross-feeding, and with uniform yield.\n",
    "            self.Rij = dist( dist_param1[0]/Nr, dist_param1[1]/Nr, (Ns, Nr) );\n",
    "            self.Kij = np.zeros((Ns,Nr));\n",
    "        elif(model == 2): # LV model\n",
    "            self.Rs = np.ones( Ns );\n",
    "            self.Aij = np.exp(dist( -np.log(2) , np.log(2), (Ns, Ns)) );\n",
    "            for i in np.arange(Ns):\n",
    "                self.Aij[i,i] = 1;\n",
    "        else: \n",
    "            print('Model not implemented')\n",
    "            self.Rij = np.zeros((Ns,Nr));\n",
    "            self.Kij = np.zeros((Ns,Nr));\n",
    "        \n",
    "    def step(self, nc, t):\n",
    "        ''' A single timestep dynamics '''\n",
    "        if(self.Model == 0): # Monod\n",
    "            dn = np.zeros(self.Ns); dc=np.zeros(self.Nr);\n",
    "            ns = nc[:self.Ns]; cs=nc[self.Ns:];\n",
    "            for i in np.arange(self.Ns):\n",
    "                dn[i] = np.sum( self.Rij[i,:] * cs / (self.Kij[i,:] + cs) )*ns[i] - self.d*ns[i];\n",
    "            for j in np.arange(self.Nr):\n",
    "                dc[j] = -np.sum( self.Rij[:,j] * ns * cs[j] / (self.Kij[:,j] + cs[j]) ) - self.d*(cs[j] - self.c0[j] );\n",
    "            dnc= np.concatenate((dn,dc))   \n",
    "        elif(self.Model == 1): # Linear\n",
    "            dn = np.zeros(self.Ns); dc=np.zeros(self.Nr);\n",
    "            ns = nc[:self.Ns]; cs=nc[self.Ns:];\n",
    "            for i in np.arange(self.Ns):\n",
    "                dn[i] = np.sum( self.Rij[i,:] * cs ) * ns[i] - self.d*ns[i];\n",
    "            for j in np.arange(self.Nr):\n",
    "                dc[j] = -np.sum( self.Rij[:,j] * ns * cs[j] ) - self.d*(cs[j] - self.c0[j]);\n",
    "            dnc= np.concatenate((dn,dc));\n",
    "        elif(self.Model == 2): # LV\n",
    "            dn = np.zeros(self.Ns); dc=np.zeros(self.Nr);\n",
    "            ns = nc[:self.Ns]; cs=nc[self.Ns:];\n",
    "            for i in np.arange(self.Ns):\n",
    "                dn[i] = self.Rs[i]*(1 - np.sum( self.Aij[i,:]*ns ) );\n",
    "            dnc = np.concatenate((dn,dc));\n",
    "        else:\n",
    "            print('model not implemented')\n",
    "            dnc = 0;\n",
    "        return dnc;\n",
    "    "
   ]
  },
  {
   "cell_type": "code",
   "execution_count": 3,
   "metadata": {},
   "outputs": [],
   "source": [
    "# For odeint implementation, the simulation runner should be external from class instance that defines the steps for run.\n",
    "def runner(CI, d, freq, nday, track=False ):\n",
    "    '''get Community Instance (CI) and run. Mimic the chemostat's 15-min flush protocol'''\n",
    "    c0 = CI.c0;\n",
    "    ode = CI.step;\n",
    "    tmax = 24/freq; tmax1= 0.25; tmax2= tmax-tmax1;\n",
    "    m = CI.Nr; n=CI.Ns;\n",
    "    nc0 = np.concatenate((np.ones(n),c0)); \n",
    "    deff = d*tmax/tmax1;\n",
    "    t1=np.linspace(0,tmax1,np.max([tmax1*deff,10])); t2=np.linspace(0,tmax2,np.max([tmax2*deff,10])); \n",
    "    if(track):\n",
    "        ts= np.zeros(1); ns = np.ones((1,n)); cs=np.ones((1,m));\n",
    "        for i in np.arange(nday*freq):\n",
    "            CI.d = deff;\n",
    "            #data = scipy.integrate.odeint(ode, nc0, t1, args = params, mxstep=10000, atol=1e-4); nc0=data[-1];\n",
    "            data = scipy.integrate.odeint(ode, nc0, t1, mxstep=10000, atol=1e-4); nc0=data[-1];\n",
    "            nc0 = nc0*(nc0>0);\n",
    "            ts = np.concatenate((ts, t1+i*tmax)); ns= np.concatenate( (ns, np.array(data[:,:n])), axis=0 ); cs= np.concatenate( (cs, data[:,n:]), axis=0 );\n",
    "            CI.d = 0;\n",
    "            data = scipy.integrate.odeint(ode, nc0, t2, mxstep=10000, atol=1e-4); nc0=data[-1];\n",
    "            nc0 = nc0*(nc0>0);\n",
    "            ts = np.concatenate((ts, t2+i*tmax)); ns= np.concatenate( (ns, np.array(data[:,:n])), axis=0 ); cs= np.concatenate( (cs, data[:,n:]), axis=0 );\n",
    "        return [ts, ns, cs]\n",
    "    else:\n",
    "        for i in np.arange(nday*freq):\n",
    "            CI.d = deff;\n",
    "            data = scipy.integrate.odeint(ode, nc0, t1, mxstep=10000, atol=1e-4); nc0=data[-1];\n",
    "            nc0 = nc0*(nc0>0);\n",
    "            CI.d = 0;\n",
    "            data = scipy.integrate.odeint(ode, nc0, t2, mxstep=10000, atol=1e-4); nc0=data[-1];\n",
    "            nc0 = nc0*(nc0>0);\n",
    "        return nc0[:n]\n",
    "    \n",
    "def run_multi( nsim=100, ns=10, nr=7, nd=8, nf=5, model=0 ):\n",
    "    '''Run multiple communities' simulations to get statistics '''\n",
    "    fs=np.array([1,4,16,32,64]);\n",
    "    ds=np.arange(nd)*0.1; ds[-1]=0.8;\n",
    "    nss = np.zeros((nsim, nd, nf, ns));\n",
    "\n",
    "    start = time.time();\n",
    "    if(model == 0 or model == 1):\n",
    "        Rijs = np.zeros((nsim, ns, nr));\n",
    "        Kijs = np.zeros((nsim, ns, nr));\n",
    "        for s in np.arange(nsim):\n",
    "            test = Community(Ns=ns, Nr=nr, model=model);\n",
    "            Rijs[s,:,:] = test.Rij;\n",
    "            Kijs[s,:,:] = test.Kij;\n",
    "            for i in np.arange(nd):\n",
    "                for j in np.arange(nf):\n",
    "                    nss[s, i, j, :] = runner(test, ds[i], fs[j], 6, track=False)\n",
    "        end = time.time();\n",
    "        print(end-start)\n",
    "        return nss, Rijs, Kijs\n",
    "    elif(model==2):\n",
    "        Rss = np.zeros((nsim, ns));\n",
    "        Aijs = np.zeros((nsim, ns, ns));\n",
    "        for s in np.arange(nsim):\n",
    "            test = Community(Ns=ns, Nr=nr, model=model);\n",
    "            Rss[s,:] = test.Rs;\n",
    "            Aijs[s,:,:] = test.Aij;\n",
    "            for i in np.arange(nd):\n",
    "                for j in np.arange(nf):\n",
    "                    nss[s, i, j, :] = runner(test, ds[i], fs[j], 6, track=False)\n",
    "        end = time.time();\n",
    "        print(end-start)\n",
    "        return nss, Rss, Aijs\n",
    "    else:\n",
    "        print('Model not implemented')"
   ]
  }
 ],
 "metadata": {
  "kernelspec": {
   "display_name": "Python 3",
   "language": "python",
   "name": "python3"
  },
  "language_info": {
   "codemirror_mode": {
    "name": "ipython",
    "version": 3
   },
   "file_extension": ".py",
   "mimetype": "text/x-python",
   "name": "python",
   "nbconvert_exporter": "python",
   "pygments_lexer": "ipython3",
   "version": "3.7.0"
  },
  "latex_envs": {
   "LaTeX_envs_menu_present": true,
   "autoclose": false,
   "autocomplete": true,
   "bibliofile": "biblio.bib",
   "cite_by": "apalike",
   "current_citInitial": 1,
   "eqLabelWithNumbers": true,
   "eqNumInitial": 1,
   "hotkeys": {
    "equation": "Ctrl-E",
    "itemize": "Ctrl-I"
   },
   "labels_anchors": false,
   "latex_user_defs": false,
   "report_style_numbering": false,
   "user_envs_cfg": false
  },
  "toc": {
   "base_numbering": 1,
   "nav_menu": {},
   "number_sections": true,
   "sideBar": true,
   "skip_h1_title": false,
   "title_cell": "Table of Contents",
   "title_sidebar": "Contents",
   "toc_cell": false,
   "toc_position": {},
   "toc_section_display": true,
   "toc_window_display": false
  },
  "varInspector": {
   "cols": {
    "lenName": 16,
    "lenType": 16,
    "lenVar": 40
   },
   "kernels_config": {
    "python": {
     "delete_cmd_postfix": "",
     "delete_cmd_prefix": "del ",
     "library": "var_list.py",
     "varRefreshCmd": "print(var_dic_list())"
    },
    "r": {
     "delete_cmd_postfix": ") ",
     "delete_cmd_prefix": "rm(",
     "library": "var_list.r",
     "varRefreshCmd": "cat(var_dic_list()) "
    }
   },
   "types_to_exclude": [
    "module",
    "function",
    "builtin_function_or_method",
    "instance",
    "_Feature"
   ],
   "window_display": false
  }
 },
 "nbformat": 4,
 "nbformat_minor": 2
}
